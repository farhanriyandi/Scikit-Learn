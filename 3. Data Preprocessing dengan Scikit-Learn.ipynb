{
 "cells": [
  {
   "cell_type": "markdown",
   "id": "4d37b8dd",
   "metadata": {},
   "source": [
    "# Sample Data"
   ]
  },
  {
   "cell_type": "code",
   "execution_count": 18,
   "id": "2a0f4598",
   "metadata": {},
   "outputs": [
    {
     "data": {
      "text/plain": [
       "array([[ 2.1, -1.9,  5.5],\n",
       "       [-1.5,  2.4,  3.5],\n",
       "       [ 0.5, -7.9,  5.6],\n",
       "       [ 5.9,  2.3, -5.8]])"
      ]
     },
     "execution_count": 18,
     "metadata": {},
     "output_type": "execute_result"
    }
   ],
   "source": [
    "import numpy as np\n",
    "from sklearn import preprocessing\n",
    "\n",
    "sample_data = np.array([[2.1, -1.9, 5.5],\n",
    "                       [-1.5, 2.4, 3.5],\n",
    "                       [0.5, -7.9, 5.6],\n",
    "                       [5.9, 2.3, -5.8]])\n",
    "\n",
    "sample_data"
   ]
  },
  {
   "cell_type": "code",
   "execution_count": 19,
   "id": "ae75a11b",
   "metadata": {},
   "outputs": [
    {
     "data": {
      "text/plain": [
       "(4, 3)"
      ]
     },
     "execution_count": 19,
     "metadata": {},
     "output_type": "execute_result"
    }
   ],
   "source": [
    "sample_data.shape"
   ]
  },
  {
   "cell_type": "markdown",
   "id": "f7937f05",
   "metadata": {},
   "source": [
    "# Binarisation"
   ]
  },
  {
   "cell_type": "code",
   "execution_count": 20,
   "id": "acf5759c",
   "metadata": {},
   "outputs": [
    {
     "data": {
      "text/plain": [
       "array([[ 2.1, -1.9,  5.5],\n",
       "       [-1.5,  2.4,  3.5],\n",
       "       [ 0.5, -7.9,  5.6],\n",
       "       [ 5.9,  2.3, -5.8]])"
      ]
     },
     "execution_count": 20,
     "metadata": {},
     "output_type": "execute_result"
    }
   ],
   "source": [
    "sample_data"
   ]
  },
  {
   "cell_type": "code",
   "execution_count": 21,
   "id": "06aeb0c0",
   "metadata": {},
   "outputs": [
    {
     "data": {
      "text/plain": [
       "array([[1., 0., 1.],\n",
       "       [0., 1., 1.],\n",
       "       [0., 0., 1.],\n",
       "       [1., 1., 0.]])"
      ]
     },
     "execution_count": 21,
     "metadata": {},
     "output_type": "execute_result"
    }
   ],
   "source": [
    "#nilai yang lebih besar dari 0.5 dijadikan 1 sedangkan 0.5 dan lebih kecil dr 0.5 dijadikan 0\n",
    "preprocessor = preprocessing.Binarizer(threshold=0.5)\n",
    "binarised_data = preprocessor.transform(sample_data)\n",
    "\n",
    "binarised_data"
   ]
  },
  {
   "cell_type": "markdown",
   "id": "c57986cf",
   "metadata": {},
   "source": [
    "# Scaling"
   ]
  },
  {
   "cell_type": "code",
   "execution_count": 22,
   "id": "03d2b204",
   "metadata": {},
   "outputs": [
    {
     "data": {
      "text/plain": [
       "array([[ 2.1, -1.9,  5.5],\n",
       "       [-1.5,  2.4,  3.5],\n",
       "       [ 0.5, -7.9,  5.6],\n",
       "       [ 5.9,  2.3, -5.8]])"
      ]
     },
     "execution_count": 22,
     "metadata": {},
     "output_type": "execute_result"
    }
   ],
   "source": [
    "sample_data"
   ]
  },
  {
   "cell_type": "code",
   "execution_count": 25,
   "id": "15f8e37e",
   "metadata": {},
   "outputs": [
    {
     "data": {
      "text/plain": [
       "array([[0.48648649, 0.58252427, 0.99122807],\n",
       "       [0.        , 1.        , 0.81578947],\n",
       "       [0.27027027, 0.        , 1.        ],\n",
       "       [1.        , 0.99029126, 0.        ]])"
      ]
     },
     "execution_count": 25,
     "metadata": {},
     "output_type": "execute_result"
    }
   ],
   "source": [
    "#menghasilkan suatu data numerik pada rentang skala tertentu\n",
    "preprocessor = preprocessing.MinMaxScaler(feature_range=(0, 1))\n",
    "preprocessor.fit(sample_data)\n",
    "\n",
    "scaled_data = preprocessor.transform(sample_data)\n",
    "scaled_data"
   ]
  },
  {
   "cell_type": "code",
   "execution_count": 26,
   "id": "e809eb70",
   "metadata": {},
   "outputs": [
    {
     "data": {
      "text/plain": [
       "array([[0.48648649, 0.58252427, 0.99122807],\n",
       "       [0.        , 1.        , 0.81578947],\n",
       "       [0.27027027, 0.        , 1.        ],\n",
       "       [1.        , 0.99029126, 0.        ]])"
      ]
     },
     "execution_count": 26,
     "metadata": {},
     "output_type": "execute_result"
    }
   ],
   "source": [
    "preprocessor = preprocessing.MinMaxScaler(feature_range=(0, 1))\n",
    "scaled_data = preprocessor.fit_transform(sample_data)\n",
    "scaled_data"
   ]
  },
  {
   "cell_type": "markdown",
   "id": "2f3eb9be",
   "metadata": {},
   "source": [
    "# L1 Normalisation: Least Absolute Deviations"
   ]
  },
  {
   "cell_type": "code",
   "execution_count": 27,
   "id": "303982df",
   "metadata": {},
   "outputs": [
    {
     "data": {
      "text/plain": [
       "array([[ 2.1, -1.9,  5.5],\n",
       "       [-1.5,  2.4,  3.5],\n",
       "       [ 0.5, -7.9,  5.6],\n",
       "       [ 5.9,  2.3, -5.8]])"
      ]
     },
     "execution_count": 27,
     "metadata": {},
     "output_type": "execute_result"
    }
   ],
   "source": [
    "sample_data"
   ]
  },
  {
   "cell_type": "code",
   "execution_count": 28,
   "id": "1fbdaf2b",
   "metadata": {},
   "outputs": [
    {
     "data": {
      "text/plain": [
       "array([[ 0.22105263, -0.2       ,  0.57894737],\n",
       "       [-0.2027027 ,  0.32432432,  0.47297297],\n",
       "       [ 0.03571429, -0.56428571,  0.4       ],\n",
       "       [ 0.42142857,  0.16428571, -0.41428571]])"
      ]
     },
     "execution_count": 28,
     "metadata": {},
     "output_type": "execute_result"
    }
   ],
   "source": [
    "l1_normalised_data = preprocessing.normalize(sample_data, norm='l1')\n",
    "l1_normalised_data"
   ]
  },
  {
   "cell_type": "markdown",
   "id": "3a9c9e39",
   "metadata": {},
   "source": [
    "# L2 Normalisation: Least Square"
   ]
  },
  {
   "cell_type": "code",
   "execution_count": 29,
   "id": "49b8659e",
   "metadata": {},
   "outputs": [
    {
     "data": {
      "text/plain": [
       "array([[ 2.1, -1.9,  5.5],\n",
       "       [-1.5,  2.4,  3.5],\n",
       "       [ 0.5, -7.9,  5.6],\n",
       "       [ 5.9,  2.3, -5.8]])"
      ]
     },
     "execution_count": 29,
     "metadata": {},
     "output_type": "execute_result"
    }
   ],
   "source": [
    "sample_data"
   ]
  },
  {
   "cell_type": "code",
   "execution_count": 30,
   "id": "2c27acfb",
   "metadata": {},
   "outputs": [
    {
     "data": {
      "text/plain": [
       "array([[ 0.33946114, -0.30713151,  0.88906489],\n",
       "       [-0.33325106,  0.53320169,  0.7775858 ],\n",
       "       [ 0.05156558, -0.81473612,  0.57753446],\n",
       "       [ 0.68706914,  0.26784051, -0.6754239 ]])"
      ]
     },
     "execution_count": 30,
     "metadata": {},
     "output_type": "execute_result"
    }
   ],
   "source": [
    "l2_normalised_data = preprocessing.normalize(sample_data, norm='l2')\n",
    "l2_normalised_data"
   ]
  },
  {
   "cell_type": "code",
   "execution_count": null,
   "id": "e75504f8",
   "metadata": {},
   "outputs": [],
   "source": []
  }
 ],
 "metadata": {
  "kernelspec": {
   "display_name": "Python 3 (ipykernel)",
   "language": "python",
   "name": "python3"
  },
  "language_info": {
   "codemirror_mode": {
    "name": "ipython",
    "version": 3
   },
   "file_extension": ".py",
   "mimetype": "text/x-python",
   "name": "python",
   "nbconvert_exporter": "python",
   "pygments_lexer": "ipython3",
   "version": "3.8.12"
  }
 },
 "nbformat": 4,
 "nbformat_minor": 5
}
